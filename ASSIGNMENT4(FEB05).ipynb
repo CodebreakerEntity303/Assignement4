{
 "cells": [
  {
   "cell_type": "code",
   "execution_count": 9,
   "id": "0c2c9545",
   "metadata": {},
   "outputs": [
    {
     "name": "stdout",
     "output_type": "stream",
     "text": [
      "An object is simply a collection of data and methods. \n",
      "A class is a blueprint for that object.\n",
      "\n",
      "pass\n"
     ]
    }
   ],
   "source": [
    "#Q1\n",
    "print(\"An object is simply a collection of data and methods. \")\n",
    "print(\"A class is a blueprint for that object.\")\n",
    "print()\n",
    "class test:\n",
    "    def result(self):\n",
    "        return \"pass\"\n",
    "\n",
    "a=test()\n",
    "print(a.result())"
   ]
  },
  {
   "cell_type": "code",
   "execution_count": 10,
   "id": "861e753c",
   "metadata": {},
   "outputs": [
    {
     "name": "stdout",
     "output_type": "stream",
     "text": [
      "Four Pillars of OOPS are as follows:\n",
      "1. Inheritance \n",
      "2. Polymorphism \n",
      "3. Encapsulation \n",
      "4. Abstraction \n"
     ]
    }
   ],
   "source": [
    "#Q2\n",
    "print('''Four Pillars of OOPS are as follows:\n",
    "1. Inheritance \n",
    "2. Polymorphism \n",
    "3. Encapsulation \n",
    "4. Abstraction ''')"
   ]
  },
  {
   "cell_type": "code",
   "execution_count": 15,
   "id": "a5be9077",
   "metadata": {},
   "outputs": [
    {
     "name": "stdout",
     "output_type": "stream",
     "text": [
      "\"__init__\", is a default constructor in python.And a task of constructor is to initialize \n",
      "or assign the values to the data members of the class when a object of that class is being created.\n",
      "\n"
     ]
    },
    {
     "data": {
      "text/plain": [
       "('Keshav', 19, 'BCA')"
      ]
     },
     "execution_count": 15,
     "metadata": {},
     "output_type": "execute_result"
    }
   ],
   "source": [
    "#Q3\n",
    "print('''\"__init__\", is a default constructor in python.And a task of constructor is to initialize \n",
    "or assign the values to the data members of the class when a object of that class is being created.''')\n",
    "\n",
    "print()\n",
    "\n",
    "class intro:\n",
    "    def __init__(self,name,age,course):\n",
    "        self.name=name\n",
    "        self.age=age\n",
    "        self.course=course\n",
    "    def intr0_details(self):\n",
    "        return self.name,self.age,self.course\n",
    "\n",
    "keshav=intro(\"Keshav\",19,\"BCA\")\n",
    "\n",
    "keshav.intr0_details()"
   ]
  },
  {
   "cell_type": "code",
   "execution_count": 16,
   "id": "8280101f",
   "metadata": {},
   "outputs": [
    {
     "name": "stdout",
     "output_type": "stream",
     "text": [
      "\"Self\",is used to represent the instance of a class.\n",
      "With this keyword, you can access the attributes and methods of the class in python\n",
      "\n"
     ]
    },
    {
     "data": {
      "text/plain": [
       "('Keshav', 19, 'BCA')"
      ]
     },
     "execution_count": 16,
     "metadata": {},
     "output_type": "execute_result"
    }
   ],
   "source": [
    "#Q4\n",
    "print('''\"Self\",is used to represent the instance of a class.\n",
    "With this keyword, you can access the attributes and methods of the class in python''')\n",
    "\n",
    "print()\n",
    "\n",
    "class intro:\n",
    "    def __init__(self,name,age,course):\n",
    "        self.name=name\n",
    "        self.age=age\n",
    "        self.course=course\n",
    "    def intr0_details(self):\n",
    "        return self.name,self.age,self.course\n",
    "\n",
    "keshav=intro(\"Keshav\",19,\"BCA\")\n",
    "\n",
    "keshav.intr0_details()"
   ]
  },
  {
   "cell_type": "code",
   "execution_count": 21,
   "id": "4f7b9da6",
   "metadata": {},
   "outputs": [
    {
     "name": "stdout",
     "output_type": "stream",
     "text": [
      "Inheritance is defined as the mechanism of inheriting the properties of the base class to the child class\n",
      "Types of Inheritence are as follows:\n",
      "1. Single Inheritence\n",
      "2. Multiple Inheritence\n",
      "3. Multilevel Inheritence\n",
      "4. Hierarchial Inheritence\n",
      "5. Hybrid Inheritence\n",
      "Single Inheritence :- \n",
      "This function is in parent class.\n",
      "This function is in child class.\n",
      "Multiple Inheritence :- \n",
      "Father : RAM\n",
      "Mother : SITA\n",
      "Multilevel Inheritence :- \n",
      "Lal mani\n",
      "Grandfather name : Lal mani\n",
      "Father name : Rampal\n",
      "Son name : Prince\n",
      "This function is in parent class.\n",
      "This function is in child 1.\n",
      "This function is in parent class.\n",
      "This function is in child 2.\n",
      "This function is in school.\n",
      "This function is in student 1. \n"
     ]
    }
   ],
   "source": [
    "#Q5\n",
    "print(\"Inheritance is defined as the mechanism of inheriting the properties of the base class to the child class\")\n",
    "print('''Types of Inheritence are as follows:\n",
    "1. Single Inheritence\n",
    "2. Multiple Inheritence\n",
    "3. Multilevel Inheritence\n",
    "4. Hierarchial Inheritence\n",
    "5. Hybrid Inheritence''')\n",
    "print(\"Single Inheritence :- \")\n",
    "class Parent:\n",
    "    def func1(self):\n",
    "        print(\"This function is in parent class.\")\n",
    "class Child(Parent):\n",
    "    def func2(self):\n",
    "        print(\"This function is in child class.\")\n",
    "object = Child()\n",
    "object.func1()\n",
    "object.func2()\n",
    "print(\"Multiple Inheritence :- \") \n",
    "class Mother:\n",
    "    mothername = \"\"\n",
    " \n",
    "    def mother(self):\n",
    "        print(self.mothername)\n",
    "class Father:\n",
    "    fathername = \"\"\n",
    " \n",
    "    def father(self):\n",
    "        print(self.fathername)\n",
    "class Son(Mother, Father):\n",
    "    def parents(self):\n",
    "        print(\"Father :\", self.fathername)\n",
    "        print(\"Mother :\", self.mothername)\n",
    "s1 = Son()\n",
    "s1.fathername = \"RAM\"\n",
    "s1.mothername = \"SITA\"\n",
    "s1.parents()\n",
    "print(\"Multilevel Inheritence :- \")\n",
    "class Grandfather:\n",
    "    def __init__(self, grandfathername):\n",
    "        self.grandfathername = grandfathername\n",
    "class Father(Grandfather):\n",
    "    def __init__(self, fathername, grandfathername):\n",
    "        self.fathername = fathername\n",
    " \n",
    "        # invoking constructor of Grandfather class\n",
    "        Grandfather.__init__(self, grandfathername)\n",
    "class Son(Father):\n",
    "    def __init__(self, sonname, fathername, grandfathername):\n",
    "        self.sonname = sonname\n",
    "        Father.__init__(self, fathername, grandfathername)\n",
    "    def print_name(self):\n",
    "        print('Grandfather name :', self.grandfathername)\n",
    "        print(\"Father name :\", self.fathername)\n",
    "        print(\"Son name :\", self.sonname)\n",
    "s1 = Son('Prince', 'Rampal', 'Lal mani')\n",
    "print(s1.grandfathername)\n",
    "s1.print_name()\n",
    "\n",
    "(\"Hierarchial Inheritence :- \")\n",
    "class Parent:\n",
    "    def func1(self):\n",
    "        print(\"This function is in parent class.\")\n",
    "class Child1(Parent):\n",
    "    def func2(self):\n",
    "        print(\"This function is in child 1.\")\n",
    "class Child2(Parent):\n",
    "    def func3(self):\n",
    "        print(\"This function is in child 2.\")\n",
    "object1 = Child1()\n",
    "object2 = Child2()\n",
    "object1.func1()\n",
    "object1.func2()\n",
    "object2.func1()\n",
    "object2.func3()\n",
    "(\"Hybrid Inheritence :- \")\n",
    "class School:\n",
    "    def func1(self):\n",
    "        print(\"This function is in school.\")\n",
    "class Student1(School):\n",
    "    def func2(self):\n",
    "        print(\"This function is in student 1. \")\n",
    "class Student2(School):\n",
    "    def func3(self):\n",
    "        print(\"This function is in student 2.\")\n",
    "class Student3(Student1, School):\n",
    "    def func4(self):\n",
    "        print(\"This function is in student 3.\")\n",
    "object = Student3()\n",
    "object.func1()\n",
    "object.func2()"
   ]
  }
 ],
 "metadata": {
  "kernelspec": {
   "display_name": "Python 3 (ipykernel)",
   "language": "python",
   "name": "python3"
  },
  "language_info": {
   "codemirror_mode": {
    "name": "ipython",
    "version": 3
   },
   "file_extension": ".py",
   "mimetype": "text/x-python",
   "name": "python",
   "nbconvert_exporter": "python",
   "pygments_lexer": "ipython3",
   "version": "3.10.9"
  }
 },
 "nbformat": 4,
 "nbformat_minor": 5
}
